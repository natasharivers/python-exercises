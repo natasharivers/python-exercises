{
 "cells": [
  {
   "cell_type": "markdown",
   "metadata": {},
   "source": [
    "#study"
   ]
  },
  {
   "cell_type": "markdown",
   "metadata": {},
   "source": [
    "##while loops\n",
    "-not the be all end all loop\n",
    "-goal with a while loop is to run as many times as needed\n",
    "-that manes while loops != the best tool for iterating finite lists of numbers\n",
    "\n",
    "#(ex): while True:\n",
    "    #       print(\"loop going forever\")\n",
    "    #^ will continue fOREVER until .... your computer dies\n",
    "    "
   ]
  },
  {
   "cell_type": "code",
   "execution_count": 5,
   "metadata": {},
   "outputs": [],
   "source": [
    "##looping through a list dictionaries\n",
    "drinks = [\n",
    "    { \n",
    "        \"type\" : \"water\",\n",
    "        \"calories\": 0,\n",
    "        \"number_consumed\" : 5\n",
    "    \n",
    "    },\n",
    "    {\n",
    "        \"type\" : \"orange juice\",\n",
    "        \"calories\": 220,\n",
    "        \"number_consumed\" : 3\n",
    "    },\n",
    "    {    \n",
    "        \"type\" : \"gatorage\",\n",
    "        \"calories\": 150,\n",
    "        \"number_consumed\" : 5\n",
    "    },\n",
    "    ]"
   ]
  },
  {
   "cell_type": "code",
   "execution_count": 6,
   "metadata": {},
   "outputs": [
    {
     "data": {
      "text/plain": [
       "[{'type': 'water', 'calories': 0, 'number_consumed': 5},\n",
       " {'type': 'orange juice', 'calories': 220, 'number_consumed': 3},\n",
       " {'type': 'gatorage', 'calories': 150, 'number_consumed': 5}]"
      ]
     },
     "execution_count": 6,
     "metadata": {},
     "output_type": "execute_result"
    }
   ],
   "source": [
    "drinks"
   ]
  },
  {
   "cell_type": "markdown",
   "metadata": {},
   "source": [
    "##one weird trick to solving looping problems == blow off the loop, forgetaboutiiiiiit!\n",
    "- make a variable holding only the first item"
   ]
  },
  {
   "cell_type": "code",
   "execution_count": 13,
   "metadata": {},
   "outputs": [
    {
     "data": {
      "text/plain": [
       "{'type': 'orange juice', 'calories': 220, 'number_consumed': 3}"
      ]
     },
     "execution_count": 13,
     "metadata": {},
     "output_type": "execute_result"
    }
   ],
   "source": [
    "drink = drinks[1] #interchangeable index, will change rest of the formula\n",
    "drink"
   ]
  },
  {
   "cell_type": "code",
   "execution_count": 14,
   "metadata": {},
   "outputs": [
    {
     "name": "stdout",
     "output_type": "stream",
     "text": [
      "660 is the total calories from drinking 3 units of orange juice\n"
     ]
    }
   ],
   "source": [
    "drinktype = drink[\"type\"] #gives you the type (water, oj, gatorage)\n",
    "calories = drink[\"calories\"] \n",
    "number_consumed = drink[\"number_consumed\"]\n",
    "total_calories = number_consumed * calories\n",
    "print(f\"{total_calories} is the total calories from drinking {number_consumed} units of {drinktype}\")"
   ]
  },
  {
   "cell_type": "code",
   "execution_count": 15,
   "metadata": {},
   "outputs": [
    {
     "name": "stdout",
     "output_type": "stream",
     "text": [
      "0 is the total calories from drinking 5 units of water\n",
      "660 is the total calories from drinking 3 units of orange juice\n",
      "750 is the total calories from drinking 5 units of gatorage\n"
     ]
    }
   ],
   "source": [
    "for drink in drinks: #this is a for loop\n",
    "    drinktype = drink[\"type\"] \n",
    "    calories = drink[\"calories\"] \n",
    "    number_consumed = drink[\"number_consumed\"]\n",
    "    total_calories = number_consumed * calories\n",
    "    print(f\"{total_calories} is the total calories from drinking {number_consumed} units of {drinktype}\")"
   ]
  },
  {
   "cell_type": "markdown",
   "metadata": {},
   "source": [
    "##NESTED DICTIONARIES"
   ]
  },
  {
   "cell_type": "code",
   "execution_count": 17,
   "metadata": {},
   "outputs": [],
   "source": [
    "x = [\n",
    "    [1, 2, 3],\n",
    "    [2, 3, 4]\n",
    "]"
   ]
  },
  {
   "cell_type": "code",
   "execution_count": 20,
   "metadata": {},
   "outputs": [
    {
     "data": {
      "text/plain": [
       "[1, 2, 3]"
      ]
     },
     "execution_count": 20,
     "metadata": {},
     "output_type": "execute_result"
    }
   ],
   "source": [
    "first_row = x[0] #gives first list in nested dictionary\n",
    "first_row"
   ]
  },
  {
   "cell_type": "code",
   "execution_count": 21,
   "metadata": {},
   "outputs": [
    {
     "data": {
      "text/plain": [
       "2"
      ]
     },
     "execution_count": 21,
     "metadata": {},
     "output_type": "execute_result"
    }
   ],
   "source": [
    "first_row[1] #gives you the second element of the first list in the nested dictionary"
   ]
  },
  {
   "cell_type": "code",
   "execution_count": null,
   "metadata": {},
   "outputs": [],
   "source": [
    "#regular dictionary"
   ]
  },
  {
   "cell_type": "code",
   "execution_count": 36,
   "metadata": {},
   "outputs": [
    {
     "data": {
      "text/plain": [
       "['john', 'ringo', 'george', 'paul']"
      ]
     },
     "execution_count": 36,
     "metadata": {},
     "output_type": "execute_result"
    }
   ],
   "source": [
    "beatles = [\n",
    "    \"john\",\n",
    "    \"ringo\",\n",
    "    \"george\",\n",
    "    \"paul\"\n",
    "]\n",
    "beatles"
   ]
  },
  {
   "cell_type": "code",
   "execution_count": 37,
   "metadata": {},
   "outputs": [
    {
     "data": {
      "text/plain": [
       "'ringo'"
      ]
     },
     "execution_count": 37,
     "metadata": {},
     "output_type": "execute_result"
    }
   ],
   "source": [
    "second_on_list = beatles[1] #gives second item on list\n",
    "second_on_list"
   ]
  },
  {
   "cell_type": "code",
   "execution_count": 38,
   "metadata": {},
   "outputs": [
    {
     "data": {
      "text/plain": [
       "'o'"
      ]
     },
     "execution_count": 38,
     "metadata": {},
     "output_type": "execute_result"
    }
   ],
   "source": [
    "second_on_list[-1] #gives us the last character of the second item from list\n"
   ]
  },
  {
   "cell_type": "code",
   "execution_count": 39,
   "metadata": {},
   "outputs": [
    {
     "data": {
      "text/plain": [
       "'o'"
      ]
     },
     "execution_count": 39,
     "metadata": {},
     "output_type": "execute_result"
    }
   ],
   "source": [
    "#SAME AS\n",
    "beatles[1][-1]"
   ]
  },
  {
   "cell_type": "code",
   "execution_count": 41,
   "metadata": {},
   "outputs": [],
   "source": [
    "#ds_topics.keys() #returns ALL the values\n",
    "#ds_topics.values() #returns ALL the keys\n"
   ]
  },
  {
   "cell_type": "code",
   "execution_count": null,
   "metadata": {},
   "outputs": [],
   "source": [
    "#MORE NESTED DICTIONARIES"
   ]
  },
  {
   "cell_type": "code",
   "execution_count": 42,
   "metadata": {},
   "outputs": [
    {
     "ename": "SyntaxError",
     "evalue": "invalid syntax (<ipython-input-42-dcb4dc729537>, line 11)",
     "output_type": "error",
     "traceback": [
      "\u001b[0;36m  File \u001b[0;32m\"<ipython-input-42-dcb4dc729537>\"\u001b[0;36m, line \u001b[0;32m11\u001b[0m\n\u001b[0;31m    \"python\" : {\u001b[0m\n\u001b[0m             ^\u001b[0m\n\u001b[0;31mSyntaxError\u001b[0m\u001b[0;31m:\u001b[0m invalid syntax\n"
     ]
    }
   ],
   "source": [
    "ds_topics = {\n",
    "    \"fundamentals\" : {\n",
    "        \"beginning\" : \"data science pipeline\",\n",
    "        \"middle\" : \"ds skills in demand\",\n",
    "        \"end\" : \" git\"\n",
    "    },\n",
    "    \"sql\" : {\n",
    "        \"beginning\" : \"what is sql?\",\n",
    "        \"middle\" : \"joins and subqueries\",\n",
    "        \"end\" : \" case\"\n",
    "    \"python\" : {\n",
    "        \"beginning\" : \"how to run python\",\n",
    "        \"middle\" : \"loops and data structure\",\n",
    "        \"end\" : \"python assessment\"\n",
    "    }\n",
    "}"
   ]
  },
  {
   "cell_type": "code",
   "execution_count": null,
   "metadata": {},
   "outputs": [],
   "source": [
    "ds_topics[\"python\"][\"middle\"] #will return all data from middle of python"
   ]
  },
  {
   "cell_type": "code",
   "execution_count": 34,
   "metadata": {},
   "outputs": [
    {
     "ename": "NameError",
     "evalue": "name 'ds_topics' is not defined",
     "output_type": "error",
     "traceback": [
      "\u001b[0;31m---------------------------------------------------------------------------\u001b[0m",
      "\u001b[0;31mNameError\u001b[0m                                 Traceback (most recent call last)",
      "\u001b[0;32m<ipython-input-34-e436da364173>\u001b[0m in \u001b[0;36m<module>\u001b[0;34m\u001b[0m\n\u001b[1;32m      1\u001b[0m \u001b[0;31m#GIT SYNTAX\u001b[0m\u001b[0;34m\u001b[0m\u001b[0;34m\u001b[0m\u001b[0;34m\u001b[0m\u001b[0m\n\u001b[0;32m----> 2\u001b[0;31m \u001b[0mds_topics\u001b[0m\u001b[0;34m.\u001b[0m\u001b[0mget\u001b[0m\u001b[0;34m(\u001b[0m\u001b[0;34m\"python\"\u001b[0m\u001b[0;34m)\u001b[0m\u001b[0;34m.\u001b[0m\u001b[0mget\u001b[0m\u001b[0;34m(\u001b[0m\u001b[0;34m\"middle\"\u001b[0m\u001b[0;34m)\u001b[0m\u001b[0;34m\u001b[0m\u001b[0;34m\u001b[0m\u001b[0m\n\u001b[0m",
      "\u001b[0;31mNameError\u001b[0m: name 'ds_topics' is not defined"
     ]
    }
   ],
   "source": [
    "#GIT SYNTAX\n",
    "ds_topics.get(\"python\").get(\"middle\")"
   ]
  },
  {
   "cell_type": "markdown",
   "metadata": {},
   "source": [
    "#to loop through a dictionary\n",
    "for key in ds_topics.keys()\n",
    "    if key.lower() == \"python\":\n",
    "        middle_section =ds_topics[key][\"middle\"]\n",
    "        print(f\"In the middle of the {key} lessons, we focus on {middle_section}\")"
   ]
  }
 ],
 "metadata": {
  "kernelspec": {
   "display_name": "Python 3",
   "language": "python",
   "name": "python3"
  },
  "language_info": {
   "codemirror_mode": {
    "name": "ipython",
    "version": 3
   },
   "file_extension": ".py",
   "mimetype": "text/x-python",
   "name": "python",
   "nbconvert_exporter": "python",
   "pygments_lexer": "ipython3",
   "version": "3.8.5"
  }
 },
 "nbformat": 4,
 "nbformat_minor": 4
}
