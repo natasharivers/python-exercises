{
 "cells": [
  {
   "cell_type": "markdown",
   "metadata": {},
   "source": [
    "#WARMUP EXERCISES"
   ]
  },
  {
   "cell_type": "code",
   "execution_count": 35,
   "metadata": {},
   "outputs": [
    {
     "name": "stdout",
     "output_type": "stream",
     "text": [
      "['toyota', 'tacoma']\n"
     ]
    }
   ],
   "source": [
    "truck = \"toyota tacoma\"\n",
    "make_and_model = truck.split()\n",
    "make = truck.split()[0]\n",
    "model = truck.split()[1]\n",
    "print(make_and_model)"
   ]
  },
  {
   "cell_type": "code",
   "execution_count": null,
   "metadata": {},
   "outputs": [],
   "source": []
  },
  {
   "cell_type": "markdown",
   "metadata": {},
   "source": [
    "### 1 TURN STRING INTO DICTIONARY"
   ]
  },
  {
   "cell_type": "code",
   "execution_count": 36,
   "metadata": {},
   "outputs": [
    {
     "name": "stdout",
     "output_type": "stream",
     "text": [
      "{'make': 'toyota', 'model': 'tacoma'}\n"
     ]
    }
   ],
   "source": [
    "truck = dict(make = 'toyota', model = 'tacoma')\n",
    "print(truck)"
   ]
  },
  {
   "cell_type": "markdown",
   "metadata": {},
   "source": [
    "### 2 CAPITALIZE FIRST CHARACTER"
   ]
  },
  {
   "cell_type": "code",
   "execution_count": 37,
   "metadata": {},
   "outputs": [
    {
     "data": {
      "text/plain": [
       "'toyota'"
      ]
     },
     "execution_count": 37,
     "metadata": {},
     "output_type": "execute_result"
    }
   ],
   "source": [
    "truck[\"make\"]"
   ]
  },
  {
   "cell_type": "code",
   "execution_count": 40,
   "metadata": {},
   "outputs": [
    {
     "name": "stdout",
     "output_type": "stream",
     "text": [
      "{'make': 'Toyota', 'model': 'Tacoma'}\n"
     ]
    }
   ],
   "source": [
    "truck[\"make\"] = truck[\"make\"].capitalize()\n",
    "truck[\"model\"] = truck[\"model\"].capitalize()\n",
    "print(truck)"
   ]
  },
  {
   "cell_type": "markdown",
   "metadata": {},
   "source": [
    "### 3 CAPITALIZE ENTIRE 3 LISTS IN DICTIONARIES"
   ]
  },
  {
   "cell_type": "code",
   "execution_count": 54,
   "metadata": {},
   "outputs": [
    {
     "data": {
      "text/plain": [
       "[{'make': 'toyota', 'model': 'tacoma'},\n",
       " {'make': 'ford', 'model': 'fusion'},\n",
       " {'make': 'mazda', 'model': 'miata'}]"
      ]
     },
     "execution_count": 54,
     "metadata": {},
     "output_type": "execute_result"
    }
   ],
   "source": [
    "trucks = [{\n",
    "    \"make\": \"toyota\",\n",
    "    \"model\": \"tacoma\"\n",
    "},\n",
    "{\n",
    "    \"make\": \"ford\",\n",
    "    \"model\": \"fusion\"\n",
    "},\n",
    "{\n",
    "    \"make\": \"mazda\",\n",
    "    \"model\": \"miata\"\n",
    "}]\n",
    "\n",
    "trucks   "
   ]
  },
  {
   "cell_type": "code",
   "execution_count": 55,
   "metadata": {},
   "outputs": [
    {
     "data": {
      "text/plain": [
       "{'make': 'toyota', 'model': 'tacoma'}"
      ]
     },
     "execution_count": 55,
     "metadata": {},
     "output_type": "execute_result"
    }
   ],
   "source": [
    "truck = trucks[0]\n",
    "truck"
   ]
  },
  {
   "cell_type": "code",
   "execution_count": 56,
   "metadata": {},
   "outputs": [
    {
     "data": {
      "text/plain": [
       "{'make': 'TOYOTA', 'model': 'TACOMA'}"
      ]
     },
     "execution_count": 56,
     "metadata": {},
     "output_type": "execute_result"
    }
   ],
   "source": [
    "truck[\"make\"] = truck[\"make\"].upper()\n",
    "truck[\"model\"] = truck[\"model\"].upper()\n",
    "truck"
   ]
  },
  {
   "cell_type": "code",
   "execution_count": 58,
   "metadata": {},
   "outputs": [
    {
     "data": {
      "text/plain": [
       "[{'make': 'TOYOTA', 'model': 'TACOMA'},\n",
       " {'make': 'FORD', 'model': 'FUSION'},\n",
       " {'make': 'MAZDA', 'model': 'MIATA'}]"
      ]
     },
     "execution_count": 58,
     "metadata": {},
     "output_type": "execute_result"
    }
   ],
   "source": [
    "for truck in trucks:\n",
    "    truck[\"make\"] = truck[\"make\"].upper()\n",
    "    truck[\"model\"] = truck[\"model\"].upper()\n",
    "trucks"
   ]
  },
  {
   "cell_type": "code",
   "execution_count": null,
   "metadata": {},
   "outputs": [],
   "source": []
  }
 ],
 "metadata": {
  "kernelspec": {
   "display_name": "Python 3",
   "language": "python",
   "name": "python3"
  },
  "language_info": {
   "codemirror_mode": {
    "name": "ipython",
    "version": 3
   },
   "file_extension": ".py",
   "mimetype": "text/x-python",
   "name": "python",
   "nbconvert_exporter": "python",
   "pygments_lexer": "ipython3",
   "version": "3.8.5"
  }
 },
 "nbformat": 4,
 "nbformat_minor": 4
}
