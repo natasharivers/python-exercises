{
 "cells": [
  {
   "cell_type": "code",
   "execution_count": 3,
   "metadata": {},
   "outputs": [],
   "source": [
    "bad_guys = {\n",
    "    'daredevil' : 'kingpin',\n",
    "    'x-men': 'apocalyse',\n",
    "    'batman': 'bane'\n",
    "}"
   ]
  },
  {
   "cell_type": "code",
   "execution_count": 4,
   "metadata": {},
   "outputs": [
    {
     "data": {
      "text/plain": [
       "{'daredevil': 'kingpin', 'x-men': 'apocalyse', 'batman': 'bane'}"
      ]
     },
     "execution_count": 4,
     "metadata": {},
     "output_type": "execute_result"
    }
   ],
   "source": [
    "bad_guys"
   ]
  },
  {
   "cell_type": "code",
   "execution_count": 5,
   "metadata": {},
   "outputs": [
    {
     "data": {
      "text/plain": [
       "'bane'"
      ]
     },
     "execution_count": 5,
     "metadata": {},
     "output_type": "execute_result"
    }
   ],
   "source": [
    "bad_guys['batman']"
   ]
  },
  {
   "cell_type": "code",
   "execution_count": 7,
   "metadata": {},
   "outputs": [
    {
     "data": {
      "text/plain": [
       "'apocalyse'"
      ]
     },
     "execution_count": 7,
     "metadata": {},
     "output_type": "execute_result"
    }
   ],
   "source": [
    "bad_guys['x-men']"
   ]
  },
  {
   "cell_type": "code",
   "execution_count": 8,
   "metadata": {},
   "outputs": [],
   "source": [
    "bad_guys['deadpool'] = 'evil deadpool'\n",
    "#adding to a dict"
   ]
  },
  {
   "cell_type": "code",
   "execution_count": 9,
   "metadata": {},
   "outputs": [
    {
     "data": {
      "text/plain": [
       "{'daredevil': 'kingpin',\n",
       " 'x-men': 'apocalyse',\n",
       " 'batman': 'bane',\n",
       " 'deadpool': 'evil deadpool'}"
      ]
     },
     "execution_count": 9,
     "metadata": {},
     "output_type": "execute_result"
    }
   ],
   "source": [
    "bad_guys"
   ]
  },
  {
   "cell_type": "code",
   "execution_count": 10,
   "metadata": {},
   "outputs": [],
   "source": [
    "bad_guys['x-men'] = 'juggernaut'\n",
    "#update/replace old entry"
   ]
  },
  {
   "cell_type": "code",
   "execution_count": 11,
   "metadata": {},
   "outputs": [
    {
     "data": {
      "text/plain": [
       "{'daredevil': 'kingpin',\n",
       " 'x-men': 'juggernaut',\n",
       " 'batman': 'bane',\n",
       " 'deadpool': 'evil deadpool'}"
      ]
     },
     "execution_count": 11,
     "metadata": {},
     "output_type": "execute_result"
    }
   ],
   "source": [
    "bad_guys"
   ]
  },
  {
   "cell_type": "code",
   "execution_count": 12,
   "metadata": {},
   "outputs": [],
   "source": [
    "#^--- juggernaut has replaced apocalyse"
   ]
  },
  {
   "cell_type": "code",
   "execution_count": 13,
   "metadata": {},
   "outputs": [],
   "source": [
    "del bad_guys['x-men']\n",
    "#removes the key that you indicate"
   ]
  },
  {
   "cell_type": "code",
   "execution_count": 14,
   "metadata": {},
   "outputs": [
    {
     "data": {
      "text/plain": [
       "{'daredevil': 'kingpin', 'batman': 'bane', 'deadpool': 'evil deadpool'}"
      ]
     },
     "execution_count": 14,
     "metadata": {},
     "output_type": "execute_result"
    }
   ],
   "source": [
    "bad_guys"
   ]
  },
  {
   "cell_type": "code",
   "execution_count": 15,
   "metadata": {},
   "outputs": [],
   "source": [
    "#^--- x-men is now gone"
   ]
  },
  {
   "cell_type": "code",
   "execution_count": 19,
   "metadata": {},
   "outputs": [
    {
     "ename": "KeyError",
     "evalue": "1",
     "output_type": "error",
     "traceback": [
      "\u001b[0;31m---------------------------------------------------------------------------\u001b[0m",
      "\u001b[0;31mKeyError\u001b[0m                                  Traceback (most recent call last)",
      "\u001b[0;32m<ipython-input-19-d312c2fbce5d>\u001b[0m in \u001b[0;36m<module>\u001b[0;34m\u001b[0m\n\u001b[0;32m----> 1\u001b[0;31m \u001b[0mbad_guys\u001b[0m\u001b[0;34m[\u001b[0m\u001b[0;36m1\u001b[0m\u001b[0;34m]\u001b[0m\u001b[0;34m\u001b[0m\u001b[0;34m\u001b[0m\u001b[0m\n\u001b[0m\u001b[1;32m      2\u001b[0m \u001b[0;31m#this will return an error because you cannot call index in dictionaries\u001b[0m\u001b[0;34m\u001b[0m\u001b[0;34m\u001b[0m\u001b[0;34m\u001b[0m\u001b[0m\n",
      "\u001b[0;31mKeyError\u001b[0m: 1"
     ]
    }
   ],
   "source": [
    "bad_guys[1]\n",
    "#this will return an error because you cannot call index in dictionaries\n"
   ]
  },
  {
   "cell_type": "code",
   "execution_count": 17,
   "metadata": {},
   "outputs": [],
   "source": [
    "d = {\n",
    "    0: \"plane\",\n",
    "    1: \"train\"\n",
    "}"
   ]
  },
  {
   "cell_type": "code",
   "execution_count": 20,
   "metadata": {},
   "outputs": [
    {
     "data": {
      "text/plain": [
       "'train'"
      ]
     },
     "execution_count": 20,
     "metadata": {},
     "output_type": "execute_result"
    }
   ],
   "source": [
    "d[1]\n",
    "#can only use 0 because it is a KEY, not an index"
   ]
  },
  {
   "cell_type": "code",
   "execution_count": 21,
   "metadata": {},
   "outputs": [],
   "source": [
    "#accessing nesting dictionaries"
   ]
  },
  {
   "cell_type": "code",
   "execution_count": 23,
   "metadata": {},
   "outputs": [],
   "source": [
    "read_content = {\"results\": [\n",
    "    {\n",
    "      \"_class\": \"question\",\n",
    "      \"course\": {\n",
    "        \"_class\": \"course\",\n",
    "        \"title\": \"Angular 7 (formerly Angular 2) - The Complete Guide\",\n",
    "        \"url\": \"/the-complete-guide-to-angular-2/\"\n",
    "      },\n",
    "      \"replies\": [\n",
    "        {\n",
    "          \"_class\": \"answer\",\n",
    "          \"user\": {\n",
    "            \"_class\": \"user\",\n",
    "            \"display_name\": \"Maximilian Schwarzmueller\"\n",
    "          }\n",
    "        }\n",
    "      ]\n",
    "    },\n",
    "    {\n",
    "      \"_class\": \"question\",\n",
    "      \"course\": {\n",
    "        \"_class\": \"course\",\n",
    "        \"title\": \"Angular 7 (formerly Angular 2) - The Complete Guide\",\n",
    "        \"url\": \"/the-complete-guide-to-angular-2/\"\n",
    "      },\n",
    "      \"replies\": [\n",
    "        {\n",
    "          \"_class\": \"answer\",\n",
    "          \"user\": {\n",
    "            \"_class\": \"user\",\n",
    "            \"display_name\": \"Maximilian Schwarzmueller\"\n",
    "          }\n",
    "        },\n",
    "        {\n",
    "          \"_class\": \"answer\",\n",
    "          \"user\": {\n",
    "            \"_class\": \"user\",\n",
    "            \"display_name\": \"Daniel Weat\"\n",
    "          }\n",
    "        }\n",
    "      ]\n",
    "    },\n",
    "    {\n",
    "      \"_class\": \"question\",\n",
    "      \"course\": {\n",
    "        \"_class\": \"course\",\n",
    "        \"title\": \"Angular 7 (formerly Angular 2) - The Complete Guide\",\n",
    "        \"url\": \"/the-complete-guide-to-angular-2/\"\n",
    "      },\n",
    "      \"replies\": [\n",
    "        {\n",
    "          \"_class\": \"answer\",\n",
    "          \"user\": {\n",
    "            \"_class\": \"user\",\n",
    "            \"display_name\": \"Maximilian Schwarzmueller\"\n",
    "          }\n",
    "        },\n",
    "        {\n",
    "          \"_class\": \"answer\",\n",
    "          \"user\": {\n",
    "            \"_class\": \"user\",\n",
    "            \"display_name\": \"Mike Jauranol\"\n",
    "          }\n",
    "        },\n",
    "        {\n",
    "          \"_class\": \"answer\",\n",
    "          \"user\": {\n",
    "            \"_class\": \"user\",\n",
    "            \"display_name\": \"Mike Jauranol\"\n",
    "          }\n",
    "        },\n",
    "        {\n",
    "          \"_class\": \"answer\",\n",
    "          \"user\": {\n",
    "            \"_class\": \"user\",\n",
    "            \"display_name\": \"Maximilian Schwarzmueller\"\n",
    "          }\n",
    "        }\n",
    "      ]\n",
    "    },\n",
    "    {\n",
    "      \"_class\": \"question\",\n",
    "      \"course\": {\n",
    "        \"_class\": \"course\",\n",
    "        \"title\": \"Angular 7 (formerly Angular 2) - The Complete Guide\",\n",
    "        \"url\": \"/the-complete-guide-to-angular-2/\"\n",
    "      },\n",
    "      \"replies\": [\n",
    "        {\n",
    "          \"_class\": \"answer\",\n",
    "          \"user\": {\n",
    "            \"_class\": \"user\",\n",
    "            \"display_name\": \"Maximilian Schwarzmueller\"\n",
    "          }\n",
    "        }\n",
    "      ]\n",
    "    },\n",
    "    {\n",
    "      \"_class\": \"question\",\n",
    "      \"course\": {\n",
    "        \"_class\": \"course\",\n",
    "        \"title\": \"Angular 7 (formerly Angular 2) - The Complete Guide\",\n",
    "        \"url\": \"/the-complete-guide-to-angular-2/\"\n",
    "      },\n",
    "      \"replies\": [\n",
    "        {\n",
    "          \"_class\": \"answer\",\n",
    "          \"user\": {\n",
    "            \"_class\": \"user\",\n",
    "            \"display_name\": \"Maximilian Schwarzmueller\"\n",
    "          }\n",
    "        },\n",
    "        {\n",
    "          \"_class\": \"answer\",\n",
    "          \"user\": {\n",
    "            \"_class\": \"user\",\n",
    "            \"display_name\": \"Bernd Raucher\"\n",
    "          }\n",
    "        },\n",
    "        {\n",
    "          \"_class\": \"answer\",\n",
    "          \"user\": {\n",
    "            \"_class\": \"user\",\n",
    "            \"display_name\": \"Maximilian Schwarzmueller\"\n",
    "          }\n",
    "        }\n",
    "      ]\n",
    "    }\n",
    "  ]\n",
    "}\n"
   ]
  },
  {
   "cell_type": "code",
   "execution_count": 25,
   "metadata": {},
   "outputs": [
    {
     "data": {
      "text/plain": [
       "dict"
      ]
     },
     "execution_count": 25,
     "metadata": {},
     "output_type": "execute_result"
    }
   ],
   "source": [
    "type(read_content)"
   ]
  },
  {
   "cell_type": "code",
   "execution_count": 27,
   "metadata": {},
   "outputs": [
    {
     "data": {
      "text/plain": [
       "[{'_class': 'question',\n",
       "  'course': {'_class': 'course',\n",
       "   'title': 'Angular 7 (formerly Angular 2) - The Complete Guide',\n",
       "   'url': '/the-complete-guide-to-angular-2/'},\n",
       "  'replies': [{'_class': 'answer',\n",
       "    'user': {'_class': 'user', 'display_name': 'Maximilian Schwarzmueller'}}]},\n",
       " {'_class': 'question',\n",
       "  'course': {'_class': 'course',\n",
       "   'title': 'Angular 7 (formerly Angular 2) - The Complete Guide',\n",
       "   'url': '/the-complete-guide-to-angular-2/'},\n",
       "  'replies': [{'_class': 'answer',\n",
       "    'user': {'_class': 'user', 'display_name': 'Maximilian Schwarzmueller'}},\n",
       "   {'_class': 'answer',\n",
       "    'user': {'_class': 'user', 'display_name': 'Daniel Weat'}}]},\n",
       " {'_class': 'question',\n",
       "  'course': {'_class': 'course',\n",
       "   'title': 'Angular 7 (formerly Angular 2) - The Complete Guide',\n",
       "   'url': '/the-complete-guide-to-angular-2/'},\n",
       "  'replies': [{'_class': 'answer',\n",
       "    'user': {'_class': 'user', 'display_name': 'Maximilian Schwarzmueller'}},\n",
       "   {'_class': 'answer',\n",
       "    'user': {'_class': 'user', 'display_name': 'Mike Jauranol'}},\n",
       "   {'_class': 'answer',\n",
       "    'user': {'_class': 'user', 'display_name': 'Mike Jauranol'}},\n",
       "   {'_class': 'answer',\n",
       "    'user': {'_class': 'user', 'display_name': 'Maximilian Schwarzmueller'}}]},\n",
       " {'_class': 'question',\n",
       "  'course': {'_class': 'course',\n",
       "   'title': 'Angular 7 (formerly Angular 2) - The Complete Guide',\n",
       "   'url': '/the-complete-guide-to-angular-2/'},\n",
       "  'replies': [{'_class': 'answer',\n",
       "    'user': {'_class': 'user', 'display_name': 'Maximilian Schwarzmueller'}}]},\n",
       " {'_class': 'question',\n",
       "  'course': {'_class': 'course',\n",
       "   'title': 'Angular 7 (formerly Angular 2) - The Complete Guide',\n",
       "   'url': '/the-complete-guide-to-angular-2/'},\n",
       "  'replies': [{'_class': 'answer',\n",
       "    'user': {'_class': 'user', 'display_name': 'Maximilian Schwarzmueller'}},\n",
       "   {'_class': 'answer',\n",
       "    'user': {'_class': 'user', 'display_name': 'Bernd Raucher'}},\n",
       "   {'_class': 'answer',\n",
       "    'user': {'_class': 'user', 'display_name': 'Maximilian Schwarzmueller'}}]}]"
      ]
     },
     "execution_count": 27,
     "metadata": {},
     "output_type": "execute_result"
    }
   ],
   "source": [
    "read_content['results']\n",
    "#gives ALL info in results"
   ]
  },
  {
   "cell_type": "code",
   "execution_count": 29,
   "metadata": {},
   "outputs": [],
   "source": [
    "question_access = read_content['results']\n",
    "#previous search was remaned by variable question_access"
   ]
  },
  {
   "cell_type": "code",
   "execution_count": 30,
   "metadata": {},
   "outputs": [
    {
     "data": {
      "text/plain": [
       "list"
      ]
     },
     "execution_count": 30,
     "metadata": {},
     "output_type": "execute_result"
    }
   ],
   "source": [
    "type(question_access)"
   ]
  },
  {
   "cell_type": "code",
   "execution_count": 31,
   "metadata": {},
   "outputs": [
    {
     "ename": "TypeError",
     "evalue": "list indices must be integers or slices, not str",
     "output_type": "error",
     "traceback": [
      "\u001b[0;31m---------------------------------------------------------------------------\u001b[0m",
      "\u001b[0;31mTypeError\u001b[0m                                 Traceback (most recent call last)",
      "\u001b[0;32m<ipython-input-31-8462beb07cf7>\u001b[0m in \u001b[0;36m<module>\u001b[0;34m\u001b[0m\n\u001b[0;32m----> 1\u001b[0;31m \u001b[0mquestion_access\u001b[0m\u001b[0;34m[\u001b[0m\u001b[0;34m'course'\u001b[0m\u001b[0;34m]\u001b[0m\u001b[0;34m\u001b[0m\u001b[0;34m\u001b[0m\u001b[0m\n\u001b[0m\u001b[1;32m      2\u001b[0m \u001b[0;31m#this will return an error BECAUSE it is a list\u001b[0m\u001b[0;34m\u001b[0m\u001b[0;34m\u001b[0m\u001b[0;34m\u001b[0m\u001b[0m\n\u001b[1;32m      3\u001b[0m \u001b[0;31m#with lists, to access something, you must use its INDEX\u001b[0m\u001b[0;34m\u001b[0m\u001b[0;34m\u001b[0m\u001b[0;34m\u001b[0m\u001b[0m\n",
      "\u001b[0;31mTypeError\u001b[0m: list indices must be integers or slices, not str"
     ]
    }
   ],
   "source": [
    "question_access['course']\n",
    "#this will return an error BECAUSE it is a list\n",
    "#with lists, to access something, you must use its INDEX"
   ]
  },
  {
   "cell_type": "code",
   "execution_count": 33,
   "metadata": {},
   "outputs": [
    {
     "data": {
      "text/plain": [
       "{'_class': 'question',\n",
       " 'course': {'_class': 'course',\n",
       "  'title': 'Angular 7 (formerly Angular 2) - The Complete Guide',\n",
       "  'url': '/the-complete-guide-to-angular-2/'},\n",
       " 'replies': [{'_class': 'answer',\n",
       "   'user': {'_class': 'user', 'display_name': 'Maximilian Schwarzmueller'}},\n",
       "  {'_class': 'answer',\n",
       "   'user': {'_class': 'user', 'display_name': 'Daniel Weat'}}]}"
      ]
     },
     "execution_count": 33,
     "metadata": {},
     "output_type": "execute_result"
    }
   ],
   "source": [
    "question_access[1]\n",
    "#retrieves second group (starts with index 0)"
   ]
  },
  {
   "cell_type": "code",
   "execution_count": 34,
   "metadata": {},
   "outputs": [
    {
     "name": "stdout",
     "output_type": "stream",
     "text": [
      "{'_class': 'question', 'course': {'_class': 'course', 'title': 'Angular 7 (formerly Angular 2) - The Complete Guide', 'url': '/the-complete-guide-to-angular-2/'}, 'replies': [{'_class': 'answer', 'user': {'_class': 'user', 'display_name': 'Maximilian Schwarzmueller'}}]}\n",
      "{'_class': 'question', 'course': {'_class': 'course', 'title': 'Angular 7 (formerly Angular 2) - The Complete Guide', 'url': '/the-complete-guide-to-angular-2/'}, 'replies': [{'_class': 'answer', 'user': {'_class': 'user', 'display_name': 'Maximilian Schwarzmueller'}}, {'_class': 'answer', 'user': {'_class': 'user', 'display_name': 'Daniel Weat'}}]}\n",
      "{'_class': 'question', 'course': {'_class': 'course', 'title': 'Angular 7 (formerly Angular 2) - The Complete Guide', 'url': '/the-complete-guide-to-angular-2/'}, 'replies': [{'_class': 'answer', 'user': {'_class': 'user', 'display_name': 'Maximilian Schwarzmueller'}}, {'_class': 'answer', 'user': {'_class': 'user', 'display_name': 'Mike Jauranol'}}, {'_class': 'answer', 'user': {'_class': 'user', 'display_name': 'Mike Jauranol'}}, {'_class': 'answer', 'user': {'_class': 'user', 'display_name': 'Maximilian Schwarzmueller'}}]}\n",
      "{'_class': 'question', 'course': {'_class': 'course', 'title': 'Angular 7 (formerly Angular 2) - The Complete Guide', 'url': '/the-complete-guide-to-angular-2/'}, 'replies': [{'_class': 'answer', 'user': {'_class': 'user', 'display_name': 'Maximilian Schwarzmueller'}}]}\n",
      "{'_class': 'question', 'course': {'_class': 'course', 'title': 'Angular 7 (formerly Angular 2) - The Complete Guide', 'url': '/the-complete-guide-to-angular-2/'}, 'replies': [{'_class': 'answer', 'user': {'_class': 'user', 'display_name': 'Maximilian Schwarzmueller'}}, {'_class': 'answer', 'user': {'_class': 'user', 'display_name': 'Bernd Raucher'}}, {'_class': 'answer', 'user': {'_class': 'user', 'display_name': 'Maximilian Schwarzmueller'}}]}\n"
     ]
    }
   ],
   "source": [
    "for question_data in question_access:\n",
    "    print(question_data)"
   ]
  },
  {
   "cell_type": "code",
   "execution_count": 35,
   "metadata": {},
   "outputs": [
    {
     "data": {
      "text/plain": [
       "dict"
      ]
     },
     "execution_count": 35,
     "metadata": {},
     "output_type": "execute_result"
    }
   ],
   "source": [
    "type(question_data)"
   ]
  },
  {
   "cell_type": "code",
   "execution_count": 36,
   "metadata": {},
   "outputs": [],
   "source": [
    "replies_access = question_data['replies']"
   ]
  },
  {
   "cell_type": "code",
   "execution_count": 37,
   "metadata": {},
   "outputs": [
    {
     "data": {
      "text/plain": [
       "[{'_class': 'answer',\n",
       "  'user': {'_class': 'user', 'display_name': 'Maximilian Schwarzmueller'}},\n",
       " {'_class': 'answer',\n",
       "  'user': {'_class': 'user', 'display_name': 'Bernd Raucher'}},\n",
       " {'_class': 'answer',\n",
       "  'user': {'_class': 'user', 'display_name': 'Maximilian Schwarzmueller'}}]"
      ]
     },
     "execution_count": 37,
     "metadata": {},
     "output_type": "execute_result"
    }
   ],
   "source": [
    "replies_access"
   ]
  },
  {
   "cell_type": "code",
   "execution_count": 38,
   "metadata": {},
   "outputs": [
    {
     "data": {
      "text/plain": [
       "{'_class': 'answer',\n",
       " 'user': {'_class': 'user', 'display_name': 'Bernd Raucher'}}"
      ]
     },
     "execution_count": 38,
     "metadata": {},
     "output_type": "execute_result"
    }
   ],
   "source": [
    "replies_access[1]"
   ]
  },
  {
   "cell_type": "code",
   "execution_count": 39,
   "metadata": {},
   "outputs": [
    {
     "name": "stdout",
     "output_type": "stream",
     "text": [
      "{'_class': 'answer', 'user': {'_class': 'user', 'display_name': 'Maximilian Schwarzmueller'}}\n",
      "{'_class': 'answer', 'user': {'_class': 'user', 'display_name': 'Bernd Raucher'}}\n",
      "{'_class': 'answer', 'user': {'_class': 'user', 'display_name': 'Maximilian Schwarzmueller'}}\n"
     ]
    }
   ],
   "source": [
    "for replies_data in replies_access:\n",
    "    print(replies_data)"
   ]
  },
  {
   "cell_type": "code",
   "execution_count": 41,
   "metadata": {},
   "outputs": [],
   "source": [
    "user_name = replies_data['user']['display_name']\n",
    "#this only gives you ONE result"
   ]
  },
  {
   "cell_type": "code",
   "execution_count": 42,
   "metadata": {},
   "outputs": [
    {
     "data": {
      "text/plain": [
       "'Maximilian Schwarzmueller'"
      ]
     },
     "execution_count": 42,
     "metadata": {},
     "output_type": "execute_result"
    }
   ],
   "source": [
    "user_name"
   ]
  },
  {
   "cell_type": "code",
   "execution_count": 43,
   "metadata": {},
   "outputs": [],
   "source": [
    "#we want ALL user/ displaynames"
   ]
  },
  {
   "cell_type": "code",
   "execution_count": 49,
   "metadata": {},
   "outputs": [],
   "source": [
    "#put it all together\n",
    "def get_user_names():\n",
    "    question_access = read_content['results']\n",
    "    for question_data in question_access:\n",
    "        replies_access = question_data['replies']\n",
    "        for replies_data in replies_access:\n",
    "            user_name = replies_data['user']['display_name']\n",
    "            print(user_name)\n",
    "            "
   ]
  },
  {
   "cell_type": "code",
   "execution_count": 50,
   "metadata": {},
   "outputs": [
    {
     "name": "stdout",
     "output_type": "stream",
     "text": [
      "Maximilian Schwarzmueller\n",
      "Maximilian Schwarzmueller\n",
      "Daniel Weat\n",
      "Maximilian Schwarzmueller\n",
      "Mike Jauranol\n",
      "Mike Jauranol\n",
      "Maximilian Schwarzmueller\n",
      "Maximilian Schwarzmueller\n",
      "Maximilian Schwarzmueller\n",
      "Bernd Raucher\n",
      "Maximilian Schwarzmueller\n"
     ]
    }
   ],
   "source": [
    "get_user_names()"
   ]
  },
  {
   "cell_type": "code",
   "execution_count": null,
   "metadata": {},
   "outputs": [],
   "source": []
  }
 ],
 "metadata": {
  "kernelspec": {
   "display_name": "Python 3",
   "language": "python",
   "name": "python3"
  },
  "language_info": {
   "codemirror_mode": {
    "name": "ipython",
    "version": 3
   },
   "file_extension": ".py",
   "mimetype": "text/x-python",
   "name": "python",
   "nbconvert_exporter": "python",
   "pygments_lexer": "ipython3",
   "version": "3.8.5"
  }
 },
 "nbformat": 4,
 "nbformat_minor": 4
}
