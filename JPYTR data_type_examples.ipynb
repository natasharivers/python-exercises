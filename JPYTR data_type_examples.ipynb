{
 "cells": [
  {
   "cell_type": "code",
   "execution_count": 9,
   "metadata": {},
   "outputs": [],
   "source": [
    "movie_one = {\n",
    "    \"movie\" : \"The Little Mermaid\",\n",
    "    \"days\" : 3,\n",
    "    \"favorability\" : None,\n",
    "    \"price\" : 3.00,\n",
    "    \"total_price\" : 9.00\n",
    "}\n"
   ]
  },
  {
   "cell_type": "code",
   "execution_count": 10,
   "metadata": {},
   "outputs": [],
   "source": [
    "movie_two = {\n",
    "    \"movie\" : \"Brother Bear\",\n",
    "    \"days\" : 5,\n",
    "    \"favorability\" : \"loved\",\n",
    "    \"price\" : 3.00,\n",
    "    \"total_price\" : 15.00\n",
    "}\n"
   ]
  },
  {
   "cell_type": "code",
   "execution_count": 15,
   "metadata": {},
   "outputs": [],
   "source": [
    "movie_three = {\n",
    "    \"movie\" : \"Hercules\",\n",
    "    \"days\" : 1,\n",
    "    \"favorability\" : \"unknown\",\n",
    "    \"price\" : 3.00,\n",
    "    \"total_price\" : 3.00\n",
    "}"
   ]
  },
  {
   "cell_type": "code",
   "execution_count": 27,
   "metadata": {},
   "outputs": [
    {
     "data": {
      "text/plain": [
       "[{'movie': 'The Little Mermaid',\n",
       "  'days': 3,\n",
       "  'favorability': None,\n",
       "  'price': 3.0,\n",
       "  'total_price': 9.0},\n",
       " {'movie': 'Brother Bear',\n",
       "  'days': 5,\n",
       "  'favorability': 'loved',\n",
       "  'price': 3.0,\n",
       "  'total_price': 15.0},\n",
       " {'movie': 'Hercules',\n",
       "  'days': 1,\n",
       "  'favorability': 'unknown',\n",
       "  'price': 3.0,\n",
       "  'total_price': 3.0}]"
      ]
     },
     "execution_count": 27,
     "metadata": {},
     "output_type": "execute_result"
    }
   ],
   "source": [
    "movies_rented = [movie_one, movie_two, movie_three]\n",
    "movies_rented"
   ]
  },
  {
   "cell_type": "code",
   "execution_count": 32,
   "metadata": {},
   "outputs": [
    {
     "data": {
      "text/plain": [
       "7420"
      ]
     },
     "execution_count": 32,
     "metadata": {},
     "output_type": "execute_result"
    }
   ],
   "source": [
    "Facebook_pay = 350\n",
    "Facebook_hrs = 10\n",
    "Google_pay = 400\n",
    "Google_hrs = 6\n",
    "Amazon_pay= 380\n",
    "Amazon_hrs = 4\n",
    "\n",
    "weekly_pay = (Facebook_pay * Facebook_hrs) + (Google_pay * Google_hrs) + (Amazon_pay * Amazon_hrs)\n",
    "weekly_pay"
   ]
  },
  {
   "cell_type": "code",
   "execution_count": 30,
   "metadata": {},
   "outputs": [
    {
     "data": {
      "text/plain": [
       "27"
      ]
     },
     "execution_count": 30,
     "metadata": {},
     "output_type": "execute_result"
    }
   ],
   "source": [
    "little_mermaid = 3\n",
    "brother_bear = 5\n",
    "hercules = 1\n",
    "price_per_day = 3\n",
    "price_total = price_per_day *(little_mermaid + brother_bear + hercules)\n",
    "price_total"
   ]
  },
  {
   "cell_type": "code",
   "execution_count": 33,
   "metadata": {},
   "outputs": [],
   "source": [
    "class_is_full = False\n",
    "schedule_conflict = False\n",
    "enrollable_status = not (class_is_full or schedule_conflict)"
   ]
  },
  {
   "cell_type": "code",
   "execution_count": 34,
   "metadata": {},
   "outputs": [
    {
     "data": {
      "text/plain": [
       "True"
      ]
     },
     "execution_count": 34,
     "metadata": {},
     "output_type": "execute_result"
    }
   ],
   "source": [
    "enrollable_status"
   ]
  },
  {
   "cell_type": "code",
   "execution_count": 35,
   "metadata": {},
   "outputs": [],
   "source": [
    "purchase_more_than_two = True\n",
    "product_not_expired = True\n",
    "premium_membership = False\n",
    "discount_eligability = product_not_expired and (purchase_more_than_two or premium_membership)"
   ]
  },
  {
   "cell_type": "code",
   "execution_count": 36,
   "metadata": {},
   "outputs": [
    {
     "data": {
      "text/plain": [
       "True"
      ]
     },
     "execution_count": 36,
     "metadata": {},
     "output_type": "execute_result"
    }
   ],
   "source": [
    "discount_eligability"
   ]
  },
  {
   "cell_type": "code",
   "execution_count": 46,
   "metadata": {},
   "outputs": [],
   "source": [
    "username = 'codeup'\n",
    "password = 'notastrongpassword'\n"
   ]
  },
  {
   "cell_type": "code",
   "execution_count": 38,
   "metadata": {},
   "outputs": [],
   "source": [
    "password_length = len(password) >= 5 \n",
    "user_name_length = len(username) <= 20\n",
    "qualification = password != username"
   ]
  },
  {
   "cell_type": "code",
   "execution_count": 57,
   "metadata": {},
   "outputs": [],
   "source": [
    "user_and_password_valid = password_length and user_name_length and qualification and no_white_space_username and no_white_space_password "
   ]
  },
  {
   "cell_type": "code",
   "execution_count": 47,
   "metadata": {},
   "outputs": [
    {
     "data": {
      "text/plain": [
       "'code up'"
      ]
     },
     "execution_count": 47,
     "metadata": {},
     "output_type": "execute_result"
    }
   ],
   "source": [
    "username"
   ]
  },
  {
   "cell_type": "code",
   "execution_count": 54,
   "metadata": {},
   "outputs": [],
   "source": [
    "no_white_space_username = not (username.startswith(' ') or username [-1] == ' ')"
   ]
  },
  {
   "cell_type": "code",
   "execution_count": 56,
   "metadata": {},
   "outputs": [],
   "source": [
    "no_white_space_password = not (password.startswith(' ') or password [-1] == ' ')"
   ]
  },
  {
   "cell_type": "code",
   "execution_count": null,
   "metadata": {},
   "outputs": [],
   "source": []
  }
 ],
 "metadata": {
  "kernelspec": {
   "display_name": "Python 3",
   "language": "python",
   "name": "python3"
  },
  "language_info": {
   "codemirror_mode": {
    "name": "ipython",
    "version": 3
   },
   "file_extension": ".py",
   "mimetype": "text/x-python",
   "name": "python",
   "nbconvert_exporter": "python",
   "pygments_lexer": "ipython3",
   "version": "3.8.5"
  }
 },
 "nbformat": 4,
 "nbformat_minor": 4
}
