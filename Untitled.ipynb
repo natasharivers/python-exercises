{
 "cells": [
  {
   "cell_type": "code",
   "execution_count": null,
   "metadata": {},
   "outputs": [],
   "source": [
    "while True:\n",
    "    odd_num = input('Enter odd number between 1 and 50:')\n",
    "    if odd_num.isdigit() and int(odd_num) % 2 == 1 and int(odd_num) <= 50:\n",
    "            break\n",
    "            "
   ]
  },
  {
   "cell_type": "code",
   "execution_count": null,
   "metadata": {},
   "outputs": [],
   "source": []
  },
  {
   "cell_type": "code",
   "execution_count": null,
   "metadata": {},
   "outputs": [],
   "source": [
    "odd_num = int(odd_num)\n",
    "for num in range(1, 50, 2):\n",
    "    if num == odd_num:\n",
    "        print('Yikes! Skipping number: ', num)\n",
    "    else:\n",
    "        print('Here is an odd number: ', num)"
   ]
  },
  {
   "cell_type": "code",
   "execution_count": null,
   "metadata": {},
   "outputs": [],
   "source": [
    "while True:\n",
    "    odd_num = input('Enter odd number between 1 and 50:')\n",
    "    if odd_num.isdigit(): \n",
    "        if int(odd_num) > 0:\n",
    "            break\n",
    "odd_num = int(odd_num)\n",
    "for num in range (0, odd_num +1):\n",
    "    print(num)"
   ]
  },
  {
   "cell_type": "code",
   "execution_count": null,
   "metadata": {},
   "outputs": [],
   "source": []
  }
 ],
 "metadata": {
  "kernelspec": {
   "display_name": "Python 3",
   "language": "python",
   "name": "python3"
  },
  "language_info": {
   "codemirror_mode": {
    "name": "ipython",
    "version": 3
   },
   "file_extension": ".py",
   "mimetype": "text/x-python",
   "name": "python",
   "nbconvert_exporter": "python",
   "pygments_lexer": "ipython3",
   "version": "3.8.5"
  }
 },
 "nbformat": 4,
 "nbformat_minor": 4
}
