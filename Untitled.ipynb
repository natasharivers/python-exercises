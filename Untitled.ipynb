{
 "cells": [
  {
   "cell_type": "code",
   "execution_count": 5,
   "metadata": {},
   "outputs": [
    {
     "name": "stdout",
     "output_type": "stream",
     "text": [
      "what day of the week is ittuweday\n",
      "Not Monday\n"
     ]
    }
   ],
   "source": [
    "day_of_week = input('what day of the week is it')\n",
    "if day_of_week == 'Monday':\n",
    "    print('Monday')\n",
    "else:\n",
    "    print ('Not Monday')\n",
    "    "
   ]
  },
  {
   "cell_type": "code",
   "execution_count": 10,
   "metadata": {},
   "outputs": [
    {
     "name": "stdout",
     "output_type": "stream",
     "text": [
      "what day of the week is itmonday\n",
      "weekday\n"
     ]
    }
   ],
   "source": [
    "weekend_or_weekday = input('what day of the week is it')\n",
    "if weekend_or_weekday == 'Monday':\n",
    "    print('weekday')\n",
    "elif weekend_or_weekday == 'Tuesday' or 'tuesday':\n",
    "    print('weekday')\n",
    "elif weekend_or_weekday == 'Wednesday' or 'wednesday':\n",
    "    print('weekday')\n",
    "elif weekend_or_weekday == 'Thursday' or 'thursday':\n",
    "    print('weekday')\n",
    "elif weekend_or_weekday == 'Friday' or 'friday':\n",
    "    print('weekday')\n",
    "else:\n",
    "    print ('weekend')"
   ]
  },
  {
   "cell_type": "code",
   "execution_count": 13,
   "metadata": {},
   "outputs": [],
   "source": [
    "hours_per_day = 10\n",
    "days_per_week = 5\n",
    "hours_per_week = hours_per_day * days_per_week"
   ]
  },
  {
   "cell_type": "code",
   "execution_count": 14,
   "metadata": {},
   "outputs": [
    {
     "data": {
      "text/plain": [
       "50"
      ]
     },
     "execution_count": 14,
     "metadata": {},
     "output_type": "execute_result"
    }
   ],
   "source": [
    "hours_per_week"
   ]
  },
  {
   "cell_type": "code",
   "execution_count": 24,
   "metadata": {},
   "outputs": [
    {
     "name": "stdout",
     "output_type": "stream",
     "text": [
      "how many hours did you work60\n",
      "Your weekly paycheck is 2800.00\n"
     ]
    }
   ],
   "source": [
    "hours_worked = input('how many hours did you work')\n",
    "h= float(hours_worked)\n",
    "hourly_pay = 40\n",
    "\n",
    "if h <= 40:\n",
    "    pay = h*hourly_pay\n",
    "elif h > 40:\n",
    "    pay = ((h-40)*hourly_pay*1.5)+hourly_pay*40   \n",
    "\n",
    "print (\"Your weekly paycheck is %.2f\" %pay)\n",
    "    \n"
   ]
  },
  {
   "cell_type": "code",
   "execution_count": null,
   "metadata": {},
   "outputs": [],
   "source": [
    "i = 5\n",
    "while i <= 15:\n",
    "    print(i)\n",
    "    i += 1\n",
    "    break"
   ]
  },
  {
   "cell_type": "code",
   "execution_count": null,
   "metadata": {},
   "outputs": [],
   "source": [
    "i = 5\n",
    "while i <= 15:\n",
    "    print(i)\n",
    "    i += 1"
   ]
  },
  {
   "cell_type": "code",
   "execution_count": null,
   "metadata": {},
   "outputs": [],
   "source": []
  }
 ],
 "metadata": {
  "kernelspec": {
   "display_name": "Python 3",
   "language": "python",
   "name": "python3"
  },
  "language_info": {
   "codemirror_mode": {
    "name": "ipython",
    "version": 3
   },
   "file_extension": ".py",
   "mimetype": "text/x-python",
   "name": "python",
   "nbconvert_exporter": "python",
   "pygments_lexer": "ipython3",
   "version": "3.8.5"
  }
 },
 "nbformat": 4,
 "nbformat_minor": 4
}
