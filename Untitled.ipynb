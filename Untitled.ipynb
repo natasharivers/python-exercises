{
 "cells": [
  {
   "cell_type": "code",
   "execution_count": 9,
   "metadata": {},
   "outputs": [],
   "source": [
    "movie_one = {\n",
    "    \"movie\" : \"The Little Mermaid\",\n",
    "    \"days\" : 3,\n",
    "    \"favorability\" : None,\n",
    "    \"price\" : 3.00,\n",
    "    \"total_price\" : 9.00\n",
    "}\n"
   ]
  },
  {
   "cell_type": "code",
   "execution_count": 10,
   "metadata": {},
   "outputs": [],
   "source": [
    "movie_two = {\n",
    "    \"movie\" : \"Brother Bear\",\n",
    "    \"days\" : 5,\n",
    "    \"favorability\" : \"loved\",\n",
    "    \"price\" : 3.00,\n",
    "    \"total_price\" : 15.00\n",
    "}\n"
   ]
  },
  {
   "cell_type": "code",
   "execution_count": 15,
   "metadata": {},
   "outputs": [],
   "source": [
    "movie_three = {\n",
    "    \"movie\" : \"Hercules\",\n",
    "    \"days\" : 1,\n",
    "    \"favorability\" : \"unknown\",\n",
    "    \"price\" : 3.00,\n",
    "    \"total_price\" : 3.00\n",
    "}"
   ]
  },
  {
   "cell_type": "code",
   "execution_count": 19,
   "metadata": {},
   "outputs": [
    {
     "data": {
      "text/plain": [
       "[{'movie': 'The Little Mermaid',\n",
       "  'days': 3,\n",
       "  'favorability': None,\n",
       "  'price': 3.0,\n",
       "  'total_price': 9.0},\n",
       " {'movie': 'Brother Bear',\n",
       "  'days': 5,\n",
       "  'favorability': 'loved',\n",
       "  'price': 3.0,\n",
       "  'total_price': 15.0},\n",
       " {'movie': 'Hercules',\n",
       "  'days': 1,\n",
       "  'favorability': 'unknown',\n",
       "  'price': 3.0,\n",
       "  'total_price': 3.0}]"
      ]
     },
     "execution_count": 19,
     "metadata": {},
     "output_type": "execute_result"
    }
   ],
   "source": [
    "movies_rented = [movie_one, movie_two, movie_three]\n",
    "movies_rented"
   ]
  },
  {
   "cell_type": "code",
   "execution_count": 26,
   "metadata": {},
   "outputs": [
    {
     "data": {
      "text/plain": [
       "7420"
      ]
     },
     "execution_count": 26,
     "metadata": {},
     "output_type": "execute_result"
    }
   ],
   "source": [
    "Facebook = 350 * 10\n",
    "Google = 400 * 6\n",
    "Amazon = 380 * 4\n",
    "\n",
    "weekly_pay = Facebook + Google + Amazon\n",
    "weekly_pay"
   ]
  },
  {
   "cell_type": "code",
   "execution_count": null,
   "metadata": {},
   "outputs": [],
   "source": []
  }
 ],
 "metadata": {
  "kernelspec": {
   "display_name": "Python 3",
   "language": "python",
   "name": "python3"
  },
  "language_info": {
   "codemirror_mode": {
    "name": "ipython",
    "version": 3
   },
   "file_extension": ".py",
   "mimetype": "text/x-python",
   "name": "python",
   "nbconvert_exporter": "python",
   "pygments_lexer": "ipython3",
   "version": "3.8.5"
  }
 },
 "nbformat": 4,
 "nbformat_minor": 4
}
